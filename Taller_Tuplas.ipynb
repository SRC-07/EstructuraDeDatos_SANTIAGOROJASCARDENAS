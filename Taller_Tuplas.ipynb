{
  "nbformat": 4,
  "nbformat_minor": 0,
  "metadata": {
    "colab": {
      "provenance": [],
      "name": "Taller Tuplas.ipynb",
      "authorship_tag": "ABX9TyNK5XhJs1XG5xHPvG/kG2IA",
      "include_colab_link": true
    },
    "kernelspec": {
      "name": "python3",
      "display_name": "Python 3"
    },
    "language_info": {
      "name": "python"
    }
  },
  "cells": [
    {
      "cell_type": "markdown",
      "metadata": {
        "id": "view-in-github",
        "colab_type": "text"
      },
      "source": [
        "<a href=\"https://colab.research.google.com/github/SRC-07/EstructuraDeDatos_SANTIAGOROJASCARDENAS/blob/main/Taller_Tuplas.ipynb\" target=\"_parent\"><img src=\"https://colab.research.google.com/assets/colab-badge.svg\" alt=\"Open In Colab\"/></a>"
      ]
    },
    {
      "cell_type": "markdown",
      "source": [
        "SANTIAGO ROJAS CARDENAS - ID: 927171\n",
        "\n",
        "ESTRUCTURA DE DATOS - NRC: 69131\n",
        "\n",
        "**TALLER TUPLAS**\n"
      ],
      "metadata": {
        "id": "KI5vUoimiRII"
      }
    },
    {
      "cell_type": "markdown",
      "source": [
        "1. Crea una tupla con los siguientes elementos: \"apple\", \"banana\", \"cherry\", \"date\", \"fig\", \"grape\". Imprime la tupla y el número de elementos que contiene."
      ],
      "metadata": {
        "id": "TCCOhCcFdOXs"
      }
    },
    {
      "cell_type": "code",
      "execution_count": null,
      "metadata": {
        "id": "4Wxu7CX7M8Kc",
        "colab": {
          "base_uri": "https://localhost:8080/"
        },
        "outputId": "35b27a93-9b33-4ebb-ba05-c1e204b193c9"
      },
      "outputs": [
        {
          "output_type": "stream",
          "name": "stdout",
          "text": [
            "('apple', 'banana', 'cherry', 'date', 'fig', 'grape')\n"
          ]
        }
      ],
      "source": [
        "fruits = (\"apple\",\"banana\", \"cherry\",\"date\",\"fig\",\"grape\")\n",
        "print(fruits)"
      ]
    },
    {
      "cell_type": "markdown",
      "source": [
        "2. Dada la tupla fruits = (\"apple\", \"banana\", \"cherry\", \"date\", \"fig\", \"grape\"), accede e imprime el tercer elemento de la tupla."
      ],
      "metadata": {
        "id": "sdY4K75ndTTl"
      }
    },
    {
      "cell_type": "code",
      "source": [
        "fruits [2]"
      ],
      "metadata": {
        "colab": {
          "base_uri": "https://localhost:8080/",
          "height": 35
        },
        "id": "-fKpO8ubdWae",
        "outputId": "83bf6039-f735-4530-e93c-ef3a76fa4423"
      },
      "execution_count": null,
      "outputs": [
        {
          "output_type": "execute_result",
          "data": {
            "text/plain": [
              "'cherry'"
            ],
            "application/vnd.google.colaboratory.intrinsic+json": {
              "type": "string"
            }
          },
          "metadata": {},
          "execution_count": 7
        }
      ]
    },
    {
      "cell_type": "markdown",
      "source": [
        "3. Dada la tupla colors = (\"red\", \"green\", \"blue\"), desempaqueta sus valores en tres variables y luego imprime cada variable."
      ],
      "metadata": {
        "id": "qqY2h0B5djlh"
      }
    },
    {
      "cell_type": "code",
      "source": [
        "colors=(\"red\", \"green\", \"blue\")\n",
        "print(r)\n",
        "print(g)\n",
        "print(b)\n"
      ],
      "metadata": {
        "colab": {
          "base_uri": "https://localhost:8080/"
        },
        "id": "-FTond6cdm0-",
        "outputId": "654adc9a-2f78-4869-f72b-1456248b9d2e"
      },
      "execution_count": null,
      "outputs": [
        {
          "output_type": "stream",
          "name": "stdout",
          "text": [
            "red\n",
            "green\n",
            "blue\n"
          ]
        }
      ]
    },
    {
      "cell_type": "markdown",
      "source": [
        "4. Crea dos tuplas, una con los números (1, 2, 3) y otra con los números (4, 5, 6). Concatenálas en una sola tupla y muestra el resultado"
      ],
      "metadata": {
        "id": "WWusFyuLeIGA"
      }
    },
    {
      "cell_type": "code",
      "source": [
        "a =(1,2,3)\n",
        "b =(4,5,6)\n",
        "c=a+b\n",
        "print(c)"
      ],
      "metadata": {
        "colab": {
          "base_uri": "https://localhost:8080/"
        },
        "id": "IyNRsuVSeKbW",
        "outputId": "21fcff1c-9ede-4e0f-916d-6195ad2a8991"
      },
      "execution_count": null,
      "outputs": [
        {
          "output_type": "stream",
          "name": "stdout",
          "text": [
            "(1, 2, 3, 4, 5, 6)\n"
          ]
        }
      ]
    },
    {
      "cell_type": "markdown",
      "source": [
        "5. Crea una tupla con el elemento \"repeat\" y repítela 4 veces. Imprime el resultado."
      ],
      "metadata": {
        "id": "y-KEggRnede6"
      }
    },
    {
      "cell_type": "code",
      "source": [
        "repetir = (\"repeat\",)\n",
        "repetir *= 3\n",
        "print(repetir)"
      ],
      "metadata": {
        "colab": {
          "base_uri": "https://localhost:8080/"
        },
        "id": "mRnvrlv0eeBz",
        "outputId": "e36af1cc-f5e1-4678-96f6-ae824c5c4987"
      },
      "execution_count": null,
      "outputs": [
        {
          "output_type": "stream",
          "name": "stdout",
          "text": [
            "('repeat', 'repeat', 'repeat')\n"
          ]
        }
      ]
    },
    {
      "cell_type": "markdown",
      "source": [
        "6. Dada la tupla numbers = (10, 20, 30, 40, 50), utiliza un bucle for para iterar sobre la tupla e imprimir cada número."
      ],
      "metadata": {
        "id": "39P-tSLqesQH"
      }
    },
    {
      "cell_type": "code",
      "source": [
        "numbers = (10, 20, 30, 40, 50)\n",
        "for number in numbers:\n",
        "  print(number)"
      ],
      "metadata": {
        "colab": {
          "base_uri": "https://localhost:8080/"
        },
        "id": "ropZoIFwett0",
        "outputId": "368cd38c-cb4d-4218-e8b0-53346ab8e945"
      },
      "execution_count": null,
      "outputs": [
        {
          "output_type": "stream",
          "name": "stdout",
          "text": [
            "10\n",
            "20\n",
            "30\n",
            "40\n",
            "50\n"
          ]
        }
      ]
    },
    {
      "cell_type": "markdown",
      "source": [
        "7. Crea una tupla que contenga otras dos tuplas: tuple1 = (1, 2, 3) y tuple2 = (\"a\", \"b\", \"c\"). Imprime la tupla anidada."
      ],
      "metadata": {
        "id": "rx9lewbFe5F4"
      }
    },
    {
      "cell_type": "code",
      "source": [
        "tuple1 = (1, 2, 3)\n",
        "tuple2 =(\"a\",\"b\",\"c\")\n",
        "tuple3 = (tuple1,tuple2)\n",
        "print(tuple3)"
      ],
      "metadata": {
        "colab": {
          "base_uri": "https://localhost:8080/"
        },
        "id": "ntq6AbNxe4oc",
        "outputId": "627c2306-b2c9-44a2-d688-4759fab163f5"
      },
      "execution_count": null,
      "outputs": [
        {
          "output_type": "stream",
          "name": "stdout",
          "text": [
            "((1, 2, 3), ('a', 'b', 'c'))\n"
          ]
        }
      ]
    },
    {
      "cell_type": "markdown",
      "source": [
        "8. Dada la tupla letters = (\"a\", \"b\", \"c\", \"d\"), verifica si la letra \"e\" está en la tupla e imprime un mensaje apropiado."
      ],
      "metadata": {
        "id": "hfuyzdmQfHAl"
      }
    },
    {
      "cell_type": "code",
      "source": [
        "letters = (\"a\", \"b\", \"c\", \"d\")\n",
        "if \"e\" in letters:\n",
        "  print(\"La letra 'e' esta en la tupla\")\n",
        "else:\n",
        "  print(\"La letra 'e' no esta en la tupla\")"
      ],
      "metadata": {
        "colab": {
          "base_uri": "https://localhost:8080/"
        },
        "id": "R_lDcVFKfIo_",
        "outputId": "b656dbfb-98de-4fe4-f7cf-4901c981e8e2"
      },
      "execution_count": null,
      "outputs": [
        {
          "output_type": "stream",
          "name": "stdout",
          "text": [
            "La letra 'e' no esta en la tupla\n"
          ]
        }
      ]
    },
    {
      "cell_type": "markdown",
      "source": [
        "9. Convierte la lista my_list = [100, 200, 300, 400] a una tupla e imprime la tupla resultante."
      ],
      "metadata": {
        "id": "MXZNsYsrhZQz"
      }
    },
    {
      "cell_type": "code",
      "source": [
        "my_list = [100, 200, 300, 400]\n",
        "tuplaR = tuple(my_list)\n",
        "print(my_list)"
      ],
      "metadata": {
        "colab": {
          "base_uri": "https://localhost:8080/"
        },
        "id": "pIJ_TdGHhZ2L",
        "outputId": "efda9586-e31f-4e28-df06-e13516214e65"
      },
      "execution_count": null,
      "outputs": [
        {
          "output_type": "stream",
          "name": "stdout",
          "text": [
            "[100, 200, 300, 400]\n"
          ]
        }
      ]
    },
    {
      "cell_type": "markdown",
      "source": [
        "10. Dada la tupla my_tuple = (5, 10, 15, 20, 25, 30, 35), imprime el valor en el índice 2 y una sub-tupla que contenga los elementos desde el índice 1 hasta el 4."
      ],
      "metadata": {
        "id": "iCsXE8nSho2E"
      }
    },
    {
      "cell_type": "code",
      "source": [
        "my_tuple =(5, 10, 15, 20, 25, 30, 35)\n",
        "print(my_tuple[2])\n",
        "print(my_tuple[1:5])"
      ],
      "metadata": {
        "colab": {
          "base_uri": "https://localhost:8080/"
        },
        "id": "HeSiobH6hbMM",
        "outputId": "5bb5f294-955c-441a-baf2-0827f91e2e22"
      },
      "execution_count": null,
      "outputs": [
        {
          "output_type": "stream",
          "name": "stdout",
          "text": [
            "15\n",
            "(10, 15, 20, 25)\n"
          ]
        }
      ]
    }
  ]
}