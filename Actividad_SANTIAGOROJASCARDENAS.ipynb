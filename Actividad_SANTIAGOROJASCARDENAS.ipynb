{
  "nbformat": 4,
  "nbformat_minor": 0,
  "metadata": {
    "colab": {
      "provenance": [],
      "authorship_tag": "ABX9TyOJ+ztRN1LYfNsCx0d2xSiH",
      "include_colab_link": true
    },
    "kernelspec": {
      "name": "python3",
      "display_name": "Python 3"
    },
    "language_info": {
      "name": "python"
    }
  },
  "cells": [
    {
      "cell_type": "markdown",
      "metadata": {
        "id": "view-in-github",
        "colab_type": "text"
      },
      "source": [
        "<a href=\"https://colab.research.google.com/github/SRC-07/EstructuraDeDatos_SANTIAGOROJASCARDENAS/blob/main/Actividad_SANTIAGOROJASCARDENAS.ipynb\" target=\"_parent\"><img src=\"https://colab.research.google.com/assets/colab-badge.svg\" alt=\"Open In Colab\"/></a>"
      ]
    },
    {
      "cell_type": "markdown",
      "source": [
        "**SANTIAGO ROJAS CARDENAS - ID: 927171**\n",
        "\n",
        "**ESTRUCTURA DE DATOS - NRC: 69131**"
      ],
      "metadata": {
        "id": "MJXlny1lJQST"
      }
    },
    {
      "cell_type": "markdown",
      "source": [
        "1.)"
      ],
      "metadata": {
        "id": "IuX54COBFJ9M"
      }
    },
    {
      "cell_type": "code",
      "execution_count": 1,
      "metadata": {
        "colab": {
          "base_uri": "https://localhost:8080/"
        },
        "id": "MEglRDspFGsL",
        "outputId": "4c9dcc52-4675-4bdc-d452-bb47139b4fc1"
      },
      "outputs": [
        {
          "output_type": "stream",
          "name": "stdout",
          "text": [
            "[100, 30, 20]\n"
          ]
        }
      ],
      "source": [
        "lista = [100,30,20]\n",
        "tupla = tuple(lista)\n",
        "lista = list(tupla)\n",
        "print(lista)"
      ]
    },
    {
      "cell_type": "markdown",
      "source": [
        "2.)\n"
      ],
      "metadata": {
        "id": "gRfbRsV5FI_8"
      }
    },
    {
      "cell_type": "code",
      "source": [
        "camisas = ('camisa_roja', 'camisa_azul', 'camisa_verde', 'camisa_negra')\n",
        "precios = {\n",
        "    'camisa_roja': 30,\n",
        "    'camisa_azul': 25,\n",
        "    'camisa_verde': 20,\n",
        "    'camisa_negra': 35\n",
        "}\n",
        "camisas_y_precios = dict(zip(camisas, precios.values()))\n",
        "suma_precios = sum(precios.values())\n",
        "if suma_precios > 100:\n",
        "    print(\"La suma de los precios es mayor a 100.\")\n",
        "else:\n",
        "    print(\"La suma de los precios no es mayor a 100.\")\n",
        "print(\"Camisas y precios:\", camisas_y_precios)\n",
        "print(\"Suma de precios:\", suma_precios)\n"
      ],
      "metadata": {
        "colab": {
          "base_uri": "https://localhost:8080/"
        },
        "id": "7-b9xgx3Fchf",
        "outputId": "375dcb6c-c338-4547-ac72-987afe448a40"
      },
      "execution_count": 2,
      "outputs": [
        {
          "output_type": "stream",
          "name": "stdout",
          "text": [
            "La suma de los precios es mayor a 100.\n",
            "Camisas y precios: {'camisa_roja': 30, 'camisa_azul': 25, 'camisa_verde': 20, 'camisa_negra': 35}\n",
            "Suma de precios: 110\n"
          ]
        }
      ]
    },
    {
      "cell_type": "markdown",
      "source": [
        "3.)"
      ],
      "metadata": {
        "id": "HExHYBFjF9Qu"
      }
    },
    {
      "cell_type": "code",
      "source": [
        "lista1 = [\"manzana\", \"banana\", \"manzana\", \"pera\" , \"banana\"]\n",
        "veces= {}\n",
        "for palabra in lista1:\n",
        "    if palabra in veces:\n",
        "        veces[palabra] += 1\n",
        "    else:\n",
        "        veces[palabra] = 1\n",
        "print(veces)"
      ],
      "metadata": {
        "colab": {
          "base_uri": "https://localhost:8080/"
        },
        "id": "dFrg3x3KGCzR",
        "outputId": "4a314f62-9174-4e81-9e5d-ad7152fc1c55"
      },
      "execution_count": 3,
      "outputs": [
        {
          "output_type": "stream",
          "name": "stdout",
          "text": [
            "{'manzana': 2, 'banana': 2, 'pera': 1}\n"
          ]
        }
      ]
    },
    {
      "cell_type": "markdown",
      "source": [
        "4.)"
      ],
      "metadata": {
        "id": "K6thZGjjGiM4"
      }
    },
    {
      "cell_type": "code",
      "source": [
        "filas = 2\n",
        "columnas = 3\n",
        "\n",
        "matriz = []\n",
        "print(\"Introduce los valores de la matriz:\")\n",
        "for i in range(filas):\n",
        "    fila = [int(input(f\"Introduce el valor en la posición [{i+1},{j+1}]: \")) for j in range(columnas)]\n",
        "    matriz.append(fila)\n",
        "\n",
        "suma_total = sum(sum(fila) for fila in matriz)\n",
        "\n",
        "total_elementos = filas * columnas\n",
        "promedio = suma_total / total_elementos\n",
        "\n",
        "print(\"\\nMatriz:\")\n",
        "for fila in matriz:\n",
        "    print(fila)\n",
        "\n",
        "print(f\"\\nSuma total: {suma_total}\")\n",
        "print(f\"Promedio: {promedio:.2f}\")"
      ],
      "metadata": {
        "colab": {
          "base_uri": "https://localhost:8080/"
        },
        "id": "bUQqsZYGGj5g",
        "outputId": "ffc501c4-5a52-4c0b-e12c-5b9a837f1cab"
      },
      "execution_count": 4,
      "outputs": [
        {
          "output_type": "stream",
          "name": "stdout",
          "text": [
            "Introduce los valores de la matriz:\n",
            "Introduce el valor en la posición [1,1]: 2\n",
            "Introduce el valor en la posición [1,2]: 4\n",
            "Introduce el valor en la posición [1,3]: 3\n",
            "Introduce el valor en la posición [2,1]: 8\n",
            "Introduce el valor en la posición [2,2]: 6\n",
            "Introduce el valor en la posición [2,3]: 7\n",
            "\n",
            "Matriz:\n",
            "[2, 4, 3]\n",
            "[8, 6, 7]\n",
            "\n",
            "Suma total: 30\n",
            "Promedio: 5.00\n"
          ]
        }
      ]
    },
    {
      "cell_type": "markdown",
      "source": [
        "5.)"
      ],
      "metadata": {
        "id": "gELVgqEZIHrO"
      }
    },
    {
      "cell_type": "code",
      "source": [
        "productos = [\n",
        "    {\"nombre\": \"Botella de Agua\", \"precio\": 1250},\n",
        "    {\"nombre\": \"Jugo de Naranja\", \"precio\": 3500},\n",
        "    {\"nombre\": \"Paquete de Galletas\", \"precio\": 2000},\n",
        "    {\"nombre\": \"Queso Tajado\", \"precio\": 3000}\n",
        "]\n",
        "\n",
        "suma_total = sum(producto[\"precio\"] for producto in productos)\n",
        "\n",
        "print(f\"Suma total de los precios: {suma_total:.2f}\")"
      ],
      "metadata": {
        "colab": {
          "base_uri": "https://localhost:8080/"
        },
        "id": "_CS174KaIPDr",
        "outputId": "dbfa97a8-260f-4b27-894a-c228b9dd36dd"
      },
      "execution_count": 6,
      "outputs": [
        {
          "output_type": "stream",
          "name": "stdout",
          "text": [
            "Suma total de los precios: 9750.00\n"
          ]
        }
      ]
    }
  ]
}