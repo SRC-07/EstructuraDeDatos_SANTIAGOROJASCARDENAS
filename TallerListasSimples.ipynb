{
  "nbformat": 4,
  "nbformat_minor": 0,
  "metadata": {
    "colab": {
      "provenance": [],
      "authorship_tag": "ABX9TyPbwVNSk28IcVDJkJkfZQNe",
      "include_colab_link": true
    },
    "kernelspec": {
      "name": "python3",
      "display_name": "Python 3"
    },
    "language_info": {
      "name": "python"
    }
  },
  "cells": [
    {
      "cell_type": "markdown",
      "metadata": {
        "id": "view-in-github",
        "colab_type": "text"
      },
      "source": [
        "<a href=\"https://colab.research.google.com/github/SRC-07/EstructuraDeDatos_SANTIAGOROJASCARDENAS/blob/main/TallerListasSimples.ipynb\" target=\"_parent\"><img src=\"https://colab.research.google.com/assets/colab-badge.svg\" alt=\"Open In Colab\"/></a>"
      ]
    },
    {
      "cell_type": "markdown",
      "source": [
        "Santiago Rojas Cardenas ID: 927171 santiago.rojas-c@uniminuto.edu.co\n",
        "\n",
        "Estructura de Datos NRC: 69131\n",
        "\n",
        "Actividad Taller Listas Simples\n",
        "\n"
      ],
      "metadata": {
        "id": "jyTeJuGvHtMg"
      }
    },
    {
      "cell_type": "code",
      "execution_count": 11,
      "metadata": {
        "colab": {
          "base_uri": "https://localhost:8080/"
        },
        "id": "Sz2PjgAP7mON",
        "outputId": "651813b8-ecac-4fb5-e42d-8cbedb660699"
      },
      "outputs": [
        {
          "output_type": "stream",
          "name": "stdout",
          "text": [
            "--> Nombre: Fernando, Apellido: Perez, Edad:22, NRC:65245, Asignatura:Física.\n",
            "--> Nombre: Juan, Apellido: Lopez, Edad:24, NRC:64574, Asignatura:Programación.\n",
            "--> Nombre: Andres, Apellido: Ramirez, Edad:26, NRC:68415, Asignatura:Matematicas.\n"
          ]
        }
      ],
      "source": [
        "class Nodo:\n",
        "    def __init__(self, Nombre, Apellido, Edad, Nrc, Asignaturas):\n",
        "        self.Nombre = Nombre\n",
        "        self.Apellido= Apellido\n",
        "        self.Edad = Edad\n",
        "        self.Nrc = Nrc\n",
        "        self.Asignaturas = Asignaturas\n",
        "        self.siguiente = None\n",
        "\n",
        "class ListaSimple:\n",
        "    def __init__(self):\n",
        "        self.cabeza = None\n",
        "\n",
        "    def insertar(self, Nombre, Apellido, Edad, Nrc, Asignaturas):\n",
        "        nuevo_nodo = Nodo(Nombre, Apellido, Edad, Nrc, Asignaturas)\n",
        "        if not self.cabeza:\n",
        "            self.cabeza = nuevo_nodo\n",
        "        else:\n",
        "            actual = self.cabeza\n",
        "            while actual.siguiente:\n",
        "                actual = actual.siguiente\n",
        "            actual.siguiente = nuevo_nodo\n",
        "\n",
        "    def mostrar(self):\n",
        "        if not self.cabeza:\n",
        "            print(\"La lista está vacía.\")\n",
        "            return\n",
        "        actual = self.cabeza\n",
        "        while actual:\n",
        "            print(f\"--> Nombre: {actual.Nombre}, Apellido: {actual.Apellido}, Edad:{actual.Edad}, NRC:{actual.Nrc}, Asignatura:{actual.Asignaturas}.\")\n",
        "            actual = actual.siguiente\n",
        "\n",
        "lista = ListaSimple()\n",
        "\n",
        "lista.insertar('Fernando', 'Perez', 22, 65245 , 'Física')\n",
        "lista.insertar('Juan', 'Lopez', 24, 64574, 'Programación')\n",
        "lista.insertar('Andres', 'Ramirez', 26, 68415, 'Matematicas')\n",
        "\n",
        "lista.mostrar()"
      ]
    },
    {
      "cell_type": "code",
      "source": [
        "class Nodo:\n",
        "    def __init__(self, Camisa, Zapatos, Pantalones):\n",
        "        self.Camisa = Camisa\n",
        "        self.Zapatos= Zapatos\n",
        "        self.Pantalones = Pantalones\n",
        "        self.siguiente = None\n",
        "\n",
        "class ListaSimple:\n",
        "    def __init__(self):\n",
        "        self.cabeza = None\n",
        "\n",
        "    def insertar(self, Camisa, Zapatos, Pantalones):\n",
        "        nuevo_nodo = Nodo(Camisa, Zapatos, Pantalones)\n",
        "        if not self.cabeza:\n",
        "            self.cabeza = nuevo_nodo\n",
        "        else:\n",
        "            actual = self.cabeza\n",
        "            while actual.siguiente:\n",
        "                actual = actual.siguiente\n",
        "            actual.siguiente = nuevo_nodo\n",
        "\n",
        "\n",
        "    def mostrar(self):\n",
        "        if not self.cabeza:\n",
        "            print(\"La lista está vacía.\")\n",
        "            return\n",
        "        actual = self.cabeza\n",
        "        while actual:\n",
        "            print(f\"--> Camisa: {actual.Camisa}, Zapatos: {actual.Zapatos}, Pantalones: {actual.Pantalones}.\")\n",
        "            actual = actual.siguiente\n",
        "\n",
        "lista = ListaSimple()\n",
        "\n",
        "lista.insertar('Negra de Koaj', 'Dril de Koaj', '1 Par de Zapatos Adidas')\n",
        "lista.insertar('Blanca de Nike', ' Jogger Gris de Nike', '2 Pares de Zapatos Nike')\n",
        "lista.insertar('Camiseta tipo Polo Blanca', 'Jeans','1 Par de Zapatos Puma')\n",
        "\n",
        "lista.mostrar()"
      ],
      "metadata": {
        "colab": {
          "base_uri": "https://localhost:8080/"
        },
        "id": "SgzVBmp2-Spb",
        "outputId": "c9a9e396-a3f7-4006-fb6c-bd0857556357"
      },
      "execution_count": 16,
      "outputs": [
        {
          "output_type": "stream",
          "name": "stdout",
          "text": [
            "--> Camisa: Negra de Koaj, Zapatos: Dril de Koaj, Pantalones: 1 Par de Zapatos Adidas.\n",
            "--> Camisa: Blanca de Nike, Zapatos:  Jogger Gris de Nike, Pantalones: 2 Pares de Zapatos Nike.\n",
            "--> Camisa: Camiseta tipo Polo Blanca, Zapatos: Jeans, Pantalones: 1 Par de Zapatos Puma.\n"
          ]
        }
      ]
    },
    {
      "cell_type": "code",
      "source": [
        "class Nodo:\n",
        "    def __init__(self, Escitorios, Computadores, Mouse, Teclados, Sillas, Salon, Tablero , Tv):\n",
        "        self.Escritorios = Escitorios\n",
        "        self.Computadores = Computadores\n",
        "        self.Mouse = Mouse\n",
        "        self.Teclados = Teclados\n",
        "        self.Sillas = Sillas\n",
        "        self.Salon = Salon\n",
        "        self.Tablero = Tablero\n",
        "        self.Tv = Tv\n",
        "        self.siguiente = None\n",
        "\n",
        "class ListaSimple:\n",
        "    def __init__(self):\n",
        "        self.cabeza = None\n",
        "\n",
        "    def insertar(self, Escritorios, Computadores, Mouse, Teclados, Sillas, Salon, Tablero, Tv):\n",
        "        nuevo_nodo = Nodo(Escritorios, Computadores, Mouse, Teclados, Sillas, Salon, Tablero, Tv)\n",
        "        if not self.cabeza:\n",
        "            self.cabeza = nuevo_nodo\n",
        "        else:\n",
        "            actual = self.cabeza\n",
        "            while actual.siguiente:\n",
        "                actual = actual.siguiente\n",
        "            actual.siguiente = nuevo_nodo\n",
        "\n",
        "\n",
        "    def mostrar(self):\n",
        "        if not self.cabeza:\n",
        "            print(\"La lista está vacía.\")\n",
        "            return\n",
        "        actual = self.cabeza\n",
        "        while actual:\n",
        "            print(f\"Numero de Escritorios: {actual.Escritorios}, Computadores: {actual.Computadores}, Mouse: {actual.Mouse}, Teclados: {actual.Teclados}, Sillas: {actual.Sillas}, Salon: {actual.Salon}, Tablero: {actual.Tablero}, Tv: {actual.Tv} \")\n",
        "            actual = actual.siguiente\n",
        "\n",
        "lista = ListaSimple()\n",
        "\n",
        "lista.insertar(4, 4, 4, 4, 4, 402, 2, 1)\n",
        "lista.insertar(2, 1, 2, 2, 6, 105, 1, 1)\n",
        "lista.insertar(6, 4, 4, 6, 7, 306, 1, 3)\n",
        "\n",
        "lista.mostrar()"
      ],
      "metadata": {
        "colab": {
          "base_uri": "https://localhost:8080/"
        },
        "id": "eVXAjwNACeoK",
        "outputId": "949fb52d-81bf-43a8-a730-6fcbc5ad28c0"
      },
      "execution_count": 20,
      "outputs": [
        {
          "output_type": "stream",
          "name": "stdout",
          "text": [
            "Numero de Escritorios: 4, Computadores: 4, Mouse: 4, Teclados: 4, Sillas: 4, Salon: 402, Tablero: 2, Tv: 1 \n",
            "Numero de Escritorios: 2, Computadores: 1, Mouse: 2, Teclados: 2, Sillas: 6, Salon: 105, Tablero: 1, Tv: 1 \n",
            "Numero de Escritorios: 6, Computadores: 4, Mouse: 4, Teclados: 6, Sillas: 7, Salon: 306, Tablero: 1, Tv: 3 \n"
          ]
        }
      ]
    },
    {
      "cell_type": "code",
      "source": [
        "class Nodo:\n",
        "    def __init__(self, Famoso, NomFamoso, NumVideos):\n",
        "        self.Famoso = Famoso\n",
        "        self.NomFamoso = NomFamoso\n",
        "        self.NumVideos = NumVideos\n",
        "        self.siguiente = None\n",
        "\n",
        "class ListaSimple:\n",
        "    def __init__(self):\n",
        "        self.cabeza = None\n",
        "\n",
        "    def insertar(self, Famoso, NomFamoso, NumVideos):\n",
        "        nuevo_nodo = Nodo(Famoso, NomFamoso, NumVideos)\n",
        "        if not self.cabeza:\n",
        "            self.cabeza = nuevo_nodo\n",
        "        else:\n",
        "            actual = self.cabeza\n",
        "            while actual.siguiente:\n",
        "                actual = actual.siguiente\n",
        "            actual.siguiente = nuevo_nodo\n",
        "\n",
        "    def mostrar(self):\n",
        "        if not self.cabeza:\n",
        "            print(\"La lista está vacía.\")\n",
        "            return\n",
        "        actual = self.cabeza\n",
        "        while actual:\n",
        "            print(f\"User del Famoso:{actual.Famoso}, Nombre real del Famoso: {actual.NomFamoso}, Numero de Videos Subidos: {actual.NumVideos}\")\n",
        "            actual = actual.siguiente\n",
        "\n",
        "persona = ListaSimple()\n",
        "\n",
        "persona.insertar(input(f\"Ingresa el user del Famoso: \"), input(f\"Ingresa el Nombre real del Famoso: \"), input(f\"Ingresa el Numero de Videos subidos: \"))\n",
        "\n",
        "persona.mostrar()"
      ],
      "metadata": {
        "colab": {
          "base_uri": "https://localhost:8080/"
        },
        "id": "dPCIagS_Ejxp",
        "outputId": "69f6e5a7-3549-4cc6-e732-f646c7060353"
      },
      "execution_count": 25,
      "outputs": [
        {
          "output_type": "stream",
          "name": "stdout",
          "text": [
            "Ingresa el user del Famoso: La Granja del Borrego\n",
            "Ingresa el Nombre real del Famoso: Carlos Alberto Díaz\n",
            "Ingresa el Numero de Videos subidos: 316\n",
            "User del Famoso:La Granja del Borrego, Nombre real del Famoso: Carlos Alberto Díaz, Numero de Videos Subidos: 316\n"
          ]
        }
      ]
    }
  ]
}